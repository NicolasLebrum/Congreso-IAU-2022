{
  "nbformat": 4,
  "nbformat_minor": 0,
  "metadata": {
    "colab": {
      "provenance": [],
      "collapsed_sections": []
    },
    "kernelspec": {
      "name": "python3",
      "display_name": "Python 3"
    },
    "language_info": {
      "name": "python"
    }
  },
  "cells": [
    {
      "cell_type": "code",
      "source": [
        "!pip install scipy"
      ],
      "metadata": {
        "id": "LRPQ_GDsRI1X",
        "colab": {
          "base_uri": "https://localhost:8080/"
        },
        "outputId": "3cf7e63d-1330-4283-f970-087f12ac299d"
      },
      "execution_count": null,
      "outputs": [
        {
          "output_type": "stream",
          "name": "stdout",
          "text": [
            "Looking in indexes: https://pypi.org/simple, https://us-python.pkg.dev/colab-wheels/public/simple/\n",
            "Requirement already satisfied: scipy in /usr/local/lib/python3.7/dist-packages (1.7.3)\n",
            "Requirement already satisfied: numpy<1.23.0,>=1.16.5 in /usr/local/lib/python3.7/dist-packages (from scipy) (1.21.6)\n"
          ]
        }
      ]
    },
    {
      "cell_type": "code",
      "source": [
        "import scipy\n",
        "import numpy as np\n",
        "import pandas as pd\n",
        "from scipy.special import ellipeinc\n",
        "import matplotlib.pyplot as plt\n",
        "from matplotlib.ticker import (MultipleLocator, FormatStrFormatter, AutoMinorLocator)\n",
        "from matplotlib import markers"
      ],
      "metadata": {
        "id": "k1lT1u9bQvV4"
      },
      "execution_count": null,
      "outputs": []
    },
    {
      "cell_type": "markdown",
      "source": [
        "**Spatial resolution calculated orbit NEO 5587 (1990 SB)**"
      ],
      "metadata": {
        "id": "DrP2grkfVcWI"
      }
    },
    {
      "cell_type": "code",
      "execution_count": null,
      "metadata": {
        "id": "XO3ZSuZTKiOE"
      },
      "outputs": [],
      "source": [
        "#Input parameters\n",
        "au = 1.496e+8 #[km]\n",
        "a1 = 2.1953*au\n",
        "A1 = 2.1953\n",
        "e1 = 0.5528 \n",
        "b1 = (A1**2)*(1-e1**2)\n",
        "theta1 = 0.00469 # f(t)\n",
        "parametro1=np.linspace(0,theta1,1000000) \n"
      ]
    },
    {
      "cell_type": "code",
      "source": [
        "R1=(((b1*np.cos(theta1))**2+(A1*np.sin(theta1))**2)**1.5)/(A1*b1) #Calculate radius of curvature\n",
        "S1 = 2*np.pi*((A1**2+b1)/2)**(1/2)  #Calculate perimeter of the orbit\n",
        "R1, S1"
      ],
      "metadata": {
        "id": "DJa_bq9q2K2M",
        "colab": {
          "base_uri": "https://localhost:8080/"
        },
        "outputId": "f628f217-91e7-4e5e-ffcb-1b4eaca68f3e"
      },
      "execution_count": null,
      "outputs": [
        {
          "output_type": "execute_result",
          "data": {
            "text/plain": [
              "(5.1016199638482975, 12.696039872656455)"
            ]
          },
          "metadata": {},
          "execution_count": 4
        }
      ]
    },
    {
      "cell_type": "code",
      "source": [
        "d = a1*scipy.special.ellipeinc(parametro1,e1**2) #[km] #Calculation of the arc length \n",
        "arc1=(d[-1]/(S1*au))*100 #Calculation of spatial resolution (arc length/orbital perimeter)\n",
        "d[-1],arc1 # arc length spatial resolution [km], fraction of orbit swept [%]."
      ],
      "metadata": {
        "colab": {
          "base_uri": "https://localhost:8080/"
        },
        "id": "IBd8eTCAAyb9",
        "outputId": "73d105e0-122a-417f-de55-d56267b5292b"
      },
      "execution_count": null,
      "outputs": [
        {
          "output_type": "execute_result",
          "data": {
            "text/plain": [
              "(1540273.4416508076, 0.08109572409074353)"
            ]
          },
          "metadata": {},
          "execution_count": 5
        }
      ]
    },
    {
      "cell_type": "code",
      "source": [
        "d[-1]/au"
      ],
      "metadata": {
        "colab": {
          "base_uri": "https://localhost:8080/"
        },
        "id": "ZbihZHEFSgM7",
        "outputId": "82c36985-bebe-40a5-9a20-fb1e12f167ef"
      },
      "execution_count": null,
      "outputs": [
        {
          "output_type": "execute_result",
          "data": {
            "text/plain": [
              "0.010295945465580264"
            ]
          },
          "metadata": {},
          "execution_count": 6
        }
      ]
    },
    {
      "cell_type": "markdown",
      "source": [
        "**Spatial and temporal resolution calculated orbit NEO 4953 (1990 MU)**"
      ],
      "metadata": {
        "id": "jO6DnAJlVsUZ"
      }
    },
    {
      "cell_type": "code",
      "source": [
        "#Input parameters\n",
        "a2 = 1.3721*au\n",
        "A2 = 1.3721\n",
        "e2 = 0.6512\n",
        "b2 = (A2**2) *(1-e2**2)\n",
        "theta2 = 0.00845\n",
        "parametro2=np.linspace(0,theta2,1000000)\n"
      ],
      "metadata": {
        "id": "rREtuB3dRowE"
      },
      "execution_count": null,
      "outputs": []
    },
    {
      "cell_type": "code",
      "source": [
        "R2=(((b2*np.cos(theta2))**2+(A2*np.sin(theta2))**2)**1.5)/(A2*b2) #Calculate radius of curvature\n",
        "S2 = 2*np.pi*((A2**2+b2)/2)**(1/2) #Calculate perimeter of the orbit\n",
        "R2, S2"
      ],
      "metadata": {
        "id": "6HRVtQ_v8Lp0",
        "colab": {
          "base_uri": "https://localhost:8080/"
        },
        "outputId": "e6a5ac4f-d62a-4f8a-8538-2a701c333b57"
      },
      "execution_count": null,
      "outputs": [
        {
          "output_type": "execute_result",
          "data": {
            "text/plain": [
              "(0.8569146623628637, 7.6527984547664)"
            ]
          },
          "metadata": {},
          "execution_count": 8
        }
      ]
    },
    {
      "cell_type": "code",
      "source": [
        "f= a2*scipy.special.ellipeinc(parametro2,e2**2) #[km] #Calculation of the arc length \n",
        "arc2=(f[-1]/(S2*au))*100 #Calculation of spatial resolution (arc length/orbital perimeter)\n",
        "f[-1], arc2 # arc length spatial resolution [km], fraction of orbit swept [%].\n"
      ],
      "metadata": {
        "colab": {
          "base_uri": "https://localhost:8080/"
        },
        "id": "LkBybbpSSnSc",
        "outputId": "5b7bba44-142b-44f5-9e2a-e38913c1abf4"
      },
      "execution_count": null,
      "outputs": [
        {
          "output_type": "execute_result",
          "data": {
            "text/plain": [
              "(1734490.2989221995, 0.15150257201534473)"
            ]
          },
          "metadata": {},
          "execution_count": 9
        }
      ]
    },
    {
      "cell_type": "code",
      "source": [
        "f[-1]/au"
      ],
      "metadata": {
        "colab": {
          "base_uri": "https://localhost:8080/"
        },
        "id": "ATeOwDi5S069",
        "outputId": "0eec87b9-b468-4b7c-f260-7d5ad7a7e006"
      },
      "execution_count": null,
      "outputs": [
        {
          "output_type": "execute_result",
          "data": {
            "text/plain": [
              "0.011594186490121654"
            ]
          },
          "metadata": {},
          "execution_count": 10
        }
      ]
    },
    {
      "cell_type": "markdown",
      "source": [
        "## Best approximate temporal resolution estimate NEO 5587(1990 SB)"
      ],
      "metadata": {
        "id": "Aw5nOVC8Wshh"
      }
    },
    {
      "cell_type": "code",
      "source": [
        "#Taking M=1\n",
        "#G = 4*(np.pi**2)\n",
        "mu = 132712440023.31 #[km^3*s^-2]\n",
        "q1 = a1*(1-e1)\n",
        "Q1 = a1*(1+e1)\n",
        "r1=(a1*(1-e1**2))/(1+e1*np.cos(theta1))  #Calculation of the radiusvector after angular displacement theta1\n",
        "q1, r1\n",
        "#Speed at perihelion and theta\n",
        "vp11 = np.sqrt(mu*(2/q1-(1/a1))) #[km/s]\n",
        "vp21 = np.sqrt(mu*(2/r1-(1/a1))) #[km/s]\n",
        "# Average time in which the arc lenght travels (True temporal resolution)\n",
        "acc1 = mu/q1**2\n",
        "TOC1 = ((-vp11+np.sqrt(vp11**2-2*acc1*d[-1]))/(-acc1))/3600 #quadratic solution [POC]Corrected orbital period\n",
        "print('TOC in hours=',TOC1) #[h]\n",
        "# SOC [corrected arc length]\n",
        "vp11,vp21\n"
      ],
      "metadata": {
        "id": "Vwkrn_RhDD8d",
        "colab": {
          "base_uri": "https://localhost:8080/"
        },
        "outputId": "4f6d0f12-ceb8-44be-9f61-b00832306d14"
      },
      "execution_count": null,
      "outputs": [
        {
          "output_type": "stream",
          "name": "stdout",
          "text": [
            "TOC en horas= 11.460919399880195\n"
          ]
        },
        {
          "output_type": "execute_result",
          "data": {
            "text/plain": [
              "(37.45846230579409, 37.45836785570407, 11.460919399880195)"
            ]
          },
          "metadata": {},
          "execution_count": 11
        }
      ]
    },
    {
      "cell_type": "markdown",
      "source": [
        "## Best approximate temporal resolution estimate NEO 4953(1990 MU)"
      ],
      "metadata": {
        "id": "u1I28Vy7DlFz"
      }
    },
    {
      "cell_type": "code",
      "source": [
        "#Taking M=11\n",
        "#G = 4*(np.pi**2)\n",
        "mu = 132712440023.31 #[km^3*s^-2]\n",
        "q2 = a2*(1-e2)\n",
        "Q2 = a2*(1+e2)\n",
        "r2=(a2*(1-e2**2))/(1+e2*np.cos(theta2)) #Calculation of the radiusvector after angular displacement theta1\n",
        "q2, r2\n",
        "#Speed at perihelion and theta\n",
        "vp12 = np.sqrt(mu*(2/q2-(1/a2))) #[km/s]\n",
        "vp22 = np.sqrt(mu*(2/r1-(1/a2))) #[km/s]\n",
        "# Average time in which the arc lenght travels (True temporal resolution)\n",
        "acc2 = mu/q2**2\n",
        "TOC2 = ((-vp12+np.sqrt(vp12**2-2*acc2*f[-1]))/(-acc2))/3600 #Quadratic solution [POC]Corrected orbital period\n",
        "print('TOC in hours=',TOC2) #[h]\n",
        "# SOC [corrected arc length]\n",
        "vp12,vp22\n"
      ],
      "metadata": {
        "colab": {
          "base_uri": "https://localhost:8080/"
        },
        "id": "DgZXWp9AnYEx",
        "outputId": "ec228930-8b4e-48d7-80a3-b7d086eb5c6f"
      },
      "execution_count": null,
      "outputs": [
        {
          "output_type": "stream",
          "name": "stdout",
          "text": [
            "TOC en horas= 8.773687827278378\n"
          ]
        },
        {
          "output_type": "execute_result",
          "data": {
            "text/plain": [
              "(55.323384375501504, 34.06887866202722, 8.773687827278378)"
            ]
          },
          "metadata": {},
          "execution_count": 12
        }
      ]
    },
    {
      "cell_type": "markdown",
      "source": [
        "## **Graphing radii of curvature of the inferred orbits**."
      ],
      "metadata": {
        "id": "7rCjGpV5LIvO"
      }
    },
    {
      "cell_type": "code",
      "source": [
        "#Body 1: 5587 (1990 SB) with R1 [Radius of curvature]\n",
        "\n",
        "x_coor, y_coor = 7,4 #Coordinates of sun determined according to move of cartesian plane\n",
        "T1 = 1356.025\n",
        "T1 = int(1356*(24/TOC1)) #[days]\n",
        "a1 = 2.1953\n",
        "e1 = 0.5528 \n",
        "k1 = np.linspace(0,2*np.pi,T1)\n",
        "\n",
        "def kepler(e1,a1,k1):\n",
        "  r = (a1*(1-e1**2))/(1+e1*np.cos(k1))\n",
        "  return r\n",
        "\n",
        "orbit = kepler(e1,a1,k1)\n",
        "\n",
        "x1 = orbit*np.cos(k1)+x_coor\n",
        "y1 = orbit*np.sin(k1)+y_coor\n",
        "T1\n"
      ],
      "metadata": {
        "colab": {
          "base_uri": "https://localhost:8080/"
        },
        "id": "t55UBCMqLXhK",
        "outputId": "7943ab3f-685b-45ea-c996-c4ac8e2c6e9d"
      },
      "execution_count": null,
      "outputs": [
        {
          "output_type": "execute_result",
          "data": {
            "text/plain": [
              "2839"
            ]
          },
          "metadata": {},
          "execution_count": 14
        }
      ]
    },
    {
      "cell_type": "code",
      "source": [
        "fig, ax = plt.subplots(figsize=(7,7))\n",
        "circle1=plt.Circle((1.94*q1/au+q1/au,y_coor),R1, fill=False, color='red', label=f'Circle curvature radius perihelion = {round(R1,3)} AU')\n",
        "circle2=plt.Circle((x_coor+Q1/(2*au),y_coor),R1, fill=False, color='blue', label=f'Circle curvature radius aphelion = {round(R1,3)} AU')\n",
        "ax.plot(x_coor,y_coor, marker=\"*\", color=\"orange\", markersize=20)\n",
        "ax.set_title(r'Orbit´s curvature', size=20)\n",
        "ax.scatter(x1,y1, 5, color='black', label='orbit of NEO 5587(1990 SB)')\n",
        "ax.set_xlim(0,10)\n",
        "ax.set_ylim(0,10)\n",
        "ax.set_xlabel('[AU]')\n",
        "ax.set_ylabel('[AU]')\n",
        "#ax.xaxis.set_minor_locator(MultipleLocator(ap/100));\n",
        "#ax.yaxis.set_minor_locator(MultipleLocator(ap/100));\n",
        "\n",
        "ax.grid()\n",
        "ax.add_patch(circle1)\n",
        "ax.add_patch(circle2)\n",
        "ax.legend(loc=\"best\");"
      ],
      "metadata": {
        "colab": {
          "base_uri": "https://localhost:8080/",
          "height": 463
        },
        "id": "hTB8WCQFMhNG",
        "outputId": "34f37d86-a538-4d0f-cca1-9c0fe23eee6f"
      },
      "execution_count": null,
      "outputs": [
        {
          "output_type": "display_data",
          "data": {
            "text/plain": [
              "<Figure size 504x504 with 1 Axes>"
            ],
            "image/png": "[encoded data removed]"
          },
          "metadata": {
            "needs_background": "light"
          }
        }
      ]
    },
    {
      "cell_type": "code",
      "source": [
        "fig, ax = plt.subplots(figsize=(7,7))\n",
        "circle1=plt.Circle((x_coor-R1+q1/au,y_coor),R1, fill=False, color='red', label=f'Circle curvature radius perihelion = {round(R1,3)} AU')\n",
        "#circle2=plt.Circle((6.82,y_coor),R1, fill=False, color='blue', label=f'Circle curvature radius aphelion = {round(R1,3)} AU')\n",
        "ax.plot(x_coor,y_coor, marker=\"*\", color=\"orange\", markersize=20)\n",
        "ax.set_title(r'Orbit´s curvature', size=20)\n",
        "ax.scatter(x1,y1, 5, color='black', label='orbit of NEO 5587(1990 SB)')\n",
        "ax.set_xlim(7.97,7.99)\n",
        "ax.set_ylim(3.975,4.025)\n",
        "ax.set_xlabel('[AU]')\n",
        "ax.set_ylabel('[AU]')\n",
        "ax.grid()\n",
        "ax.add_patch(circle1)\n",
        "#ax.add_patch(circle2)\n",
        "ax.legend(loc=\"best\");"
      ],
      "metadata": {
        "colab": {
          "base_uri": "https://localhost:8080/",
          "height": 463
        },
        "id": "du4hTCwO9SO0",
        "outputId": "d17fd7e9-639d-440f-b021-105a7a31eed7"
      },
      "execution_count": null,
      "outputs": [
        {
          "output_type": "display_data",
          "data": {
            "text/plain": [
              "<Figure size 504x504 with 1 Axes>"
            ],
            "image/png": "[encoded data removed]"
          },
          "metadata": {
            "needs_background": "light"
          }
        }
      ]
    },
    {
      "cell_type": "code",
      "source": [
        "#Body 2: 4953(1990 MU) with R2 [Radius of curvature]\n",
        "\n",
        "x_coor, y_coor = 7,4  #Coordinates of sun determined according to move of cartesian plane\n",
        "T2 = 754.252\n",
        "T2 = int(754*(24/TOC2)) #[days]\n",
        "a2 = 2.1953\n",
        "e2 = 0.5528 \n",
        "k2 = np.linspace(0,2*np.pi,T2)\n",
        "\n",
        "def kepler(e2,a2,k2):\n",
        "  r = (a2*(1-e2**2))/(1+e2*np.cos(k2))\n",
        "  return r\n",
        "\n",
        "orbit2 = kepler(e2,a2,k2)\n",
        "\n",
        "x2 = orbit2*np.cos(k2)+x_coor\n",
        "y2 = orbit2*np.sin(k2)+y_coor\n",
        "T2"
      ],
      "metadata": {
        "colab": {
          "base_uri": "https://localhost:8080/"
        },
        "id": "5hSqPka8U5zx",
        "outputId": "b37a35c3-7204-4614-de8e-8b1f17992569"
      },
      "execution_count": null,
      "outputs": [
        {
          "output_type": "execute_result",
          "data": {
            "text/plain": [
              "2062"
            ]
          },
          "metadata": {},
          "execution_count": 17
        }
      ]
    },
    {
      "cell_type": "code",
      "source": [
        "#Body 2: 4953 (1990 MU) with R2 [Radius of curvature]\n",
        "\n",
        "fig, ax = plt.subplots(figsize=(7,7))\n",
        "circle12=plt.Circle((x_coor-Q2/(3.15*au)+R2,y_coor),R2, fill=False, color='red', label=f'Circle curvature radius perihelion = {round(R2,3)} AU')\n",
        "circle22=plt.Circle((x_coor-R2-Q2/(1.34*au),y_coor),R2, fill=False, color='blue', label=f'Circle curvature radius aphelion = {round(R2,3)} AU')\n",
        "ax.plot(x_coor,y_coor, marker=\"*\", color=\"orange\", markersize=20)\n",
        "ax.set_title(r'Orbit´s curvature', size=20)\n",
        "ax.scatter(x2,y2, 5, color='black', label='orbit of NEO 4953(1990 MU)')\n",
        "ax.set_xlim(0,10)\n",
        "ax.set_ylim(0,10)\n",
        "ax.set_xlabel('[AU]')\n",
        "ax.set_ylabel('[AU]')\n",
        "\n",
        "ax.grid()\n",
        "ax.add_patch(circle12)\n",
        "ax.add_patch(circle22)\n",
        "ax.legend(loc=\"best\");"
      ],
      "metadata": {
        "id": "Idh8eJ9msva3",
        "colab": {
          "base_uri": "https://localhost:8080/",
          "height": 463
        },
        "outputId": "b2978828-45b7-4130-ac70-051396d3291a"
      },
      "execution_count": null,
      "outputs": [
        {
          "output_type": "display_data",
          "data": {
            "text/plain": [
              "<Figure size 504x504 with 1 Axes>"
            ],
            "image/png": "[encoded data removed]"
          },
          "metadata": {
            "needs_background": "light"
          }
        }
      ]
    },
    {
      "cell_type": "code",
      "source": [
        "fig, ax = plt.subplots(figsize=(7,7))\n",
        "circle1=plt.Circle((x_coor-Q2/(3.0948*au)+R2,y_coor),R2, fill=False, color='red', label=f'Circle curvature radius perihelion = {round(R2,3)} AU')\n",
        "#circle2=plt.Circle((6.82,y_coor),R1, fill=False, color='blue', label=f'Circle curvature radius aphelion = {round(R1,3)} AU')\n",
        "ax.plot(x_coor,y_coor, marker=\"*\", color=\"orange\", markersize=20)\n",
        "ax.set_title(r'Orbit´s curvature', size=20)\n",
        "ax.scatter(x1,y1, 5, color='black', label='orbit of NEO 4953(1990 MU)')\n",
        "ax.set_xlim(7.980,7.983)\n",
        "ax.set_ylim(3.996,4.0065)\n",
        "ax.set_xlabel('[AU]')\n",
        "ax.set_ylabel('[AU]')\n",
        "ax.grid()\n",
        "ax.add_patch(circle1)\n",
        "#ax.add_patch(circle2)\n",
        "ax.legend(loc=\"best\");"
      ],
      "metadata": {
        "colab": {
          "base_uri": "https://localhost:8080/",
          "height": 463
        },
        "id": "seRLP4GCCvqb",
        "outputId": "13dd374a-c798-469c-b201-de54b0eda6b6"
      },
      "execution_count": null,
      "outputs": [
        {
          "output_type": "display_data",
          "data": {
            "text/plain": [
              "<Figure size 504x504 with 1 Axes>"
            ],
            "image/png": "[encoded data removed]"
          },
          "metadata": {
            "needs_background": "light"
          }
        }
      ]
    }
  ]
}